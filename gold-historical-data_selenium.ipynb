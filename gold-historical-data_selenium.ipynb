{
 "cells": [
  {
   "cell_type": "code",
   "execution_count": 1,
   "metadata": {},
   "outputs": [],
   "source": [
    "import pandas as pd\n",
    "from selenium import webdriver\n",
    "import time\n",
    "import matplotlib.pyplot as plt\n",
    "import numpy as np"
   ]
  },
  {
   "cell_type": "code",
   "execution_count": 2,
   "metadata": {},
   "outputs": [],
   "source": [
    "\n",
    "def scrap_historical_data():\n",
    "  \n",
    "    browser = webdriver.Chrome(r'C:\\Users\\1\\Desktop\\קורס DS\\שיעור 1\\demos\\demos\\chromedriver.exe')\n",
    "    url = 'https://www.investing.com/commodities/gold-historical-data'\n",
    "\n",
    "    browser.get(url)\n",
    "    # wait time for the webpage to load\n",
    "    time.sleep(10)\n",
    "    # remove any popups\n",
    "    try:\n",
    "        popup = browser.find_element_by_xpath('//*[@id=\"PromoteSignUpPopUp\"]/div[2]/i')\n",
    "        popup.click()\n",
    "    except:\n",
    "        pass\n",
    "    field = browser.find_element_by_xpath('//*[@id=\"widgetFieldDateRange\"]')\n",
    "    field.click()\n",
    "    # wait time for the webpage to load\n",
    "    time.sleep(2)\n",
    "    # set date limit to which historical data is considered\n",
    "    start_date = browser.find_element_by_xpath('//*[@id=\"startDate\"]')\n",
    "    start_date.clear()\n",
    "    start_date.send_keys('01/01/2000')\n",
    "    enter_key = browser.find_element_by_xpath('//*[@id=\"applyBtn\"]')\n",
    "    enter_key.click()\n",
    "    # wait time for the webpage to load\n",
    "    time.sleep(10)\n",
    "    # remove any popups\n",
    "    try:\n",
    "        popup = browser.find_element_by_xpath('//*[@id=\"PromoteSignUpPopUp\"]/div[2]/i')\n",
    "        popup.click()\n",
    "    except:\n",
    "        pass\n",
    "    # load the data from webpage\n",
    "    try:\n",
    "        tabel = browser.find_element_by_xpath('//*[@id=\"curr_table\"]').get_attribute('outerHTML')\n",
    "    except:\n",
    "        # remove any popups\n",
    "        try:\n",
    "            popup = browser.find_element_by_xpath('//*[@id=\"PromoteSignUpPopUp\"]/div[2]/i')\n",
    "            popup.click()\n",
    "        except:\n",
    "            pass\n",
    "        # load the data from webpage\n",
    "        tabel = browser.find_element_by_xpath('//*[@id=\"curr_table\"]').get_attribute('outerHTML')\n",
    "    df  = pd.read_html(tabel)\n",
    "    dataset = df[0]\n",
    "    \n",
    "    dataset.to_csv('gold_historical_data.csv')\n",
    "    return dataset"
   ]
  },
  {
   "cell_type": "code",
   "execution_count": 3,
   "metadata": {
    "scrolled": false
   },
   "outputs": [
    {
     "data": {
      "text/html": [
       "<div>\n",
       "<style scoped>\n",
       "    .dataframe tbody tr th:only-of-type {\n",
       "        vertical-align: middle;\n",
       "    }\n",
       "\n",
       "    .dataframe tbody tr th {\n",
       "        vertical-align: top;\n",
       "    }\n",
       "\n",
       "    .dataframe thead th {\n",
       "        text-align: right;\n",
       "    }\n",
       "</style>\n",
       "<table border=\"1\" class=\"dataframe\">\n",
       "  <thead>\n",
       "    <tr style=\"text-align: right;\">\n",
       "      <th></th>\n",
       "      <th>Date</th>\n",
       "      <th>Price</th>\n",
       "    </tr>\n",
       "  </thead>\n",
       "  <tbody>\n",
       "    <tr>\n",
       "      <th>0</th>\n",
       "      <td>2019-08-19</td>\n",
       "      <td>1537.2</td>\n",
       "    </tr>\n",
       "    <tr>\n",
       "      <th>1</th>\n",
       "      <td>2019-08-16</td>\n",
       "      <td>1549.2</td>\n",
       "    </tr>\n",
       "    <tr>\n",
       "      <th>2</th>\n",
       "      <td>2019-08-15</td>\n",
       "      <td>1556.7</td>\n",
       "    </tr>\n",
       "    <tr>\n",
       "      <th>3</th>\n",
       "      <td>2019-08-14</td>\n",
       "      <td>1554.0</td>\n",
       "    </tr>\n",
       "    <tr>\n",
       "      <th>4</th>\n",
       "      <td>2019-08-13</td>\n",
       "      <td>1540.7</td>\n",
       "    </tr>\n",
       "  </tbody>\n",
       "</table>\n",
       "</div>"
      ],
      "text/plain": [
       "        Date   Price\n",
       "0 2019-08-19  1537.2\n",
       "1 2019-08-16  1549.2\n",
       "2 2019-08-15  1556.7\n",
       "3 2019-08-14  1554.0\n",
       "4 2019-08-13  1540.7"
      ]
     },
     "execution_count": 3,
     "metadata": {},
     "output_type": "execute_result"
    }
   ],
   "source": [
    "# invoke scrapping function\n",
    "main_dataset = scrap_historical_data()\n",
    "# parse data in scrapped data to standard timestamp format\n",
    "main_dataset.loc[:,'Date'] = pd.to_datetime(main_dataset.loc[:,'Date'])\n",
    "# dropp columns that are not needed to do prediction\n",
    "main_dataset.drop(columns=['Open','High','Low','Vol.','Change %'], inplace=True, axis=1)\n",
    "# display the sample to see how dataframe looks now\n",
    "main_dataset.head()\n"
   ]
  },
  {
   "cell_type": "code",
   "execution_count": 4,
   "metadata": {
    "scrolled": true
   },
   "outputs": [
    {
     "data": {
      "text/html": [
       "<div>\n",
       "<style scoped>\n",
       "    .dataframe tbody tr th:only-of-type {\n",
       "        vertical-align: middle;\n",
       "    }\n",
       "\n",
       "    .dataframe tbody tr th {\n",
       "        vertical-align: top;\n",
       "    }\n",
       "\n",
       "    .dataframe thead th {\n",
       "        text-align: right;\n",
       "    }\n",
       "</style>\n",
       "<table border=\"1\" class=\"dataframe\">\n",
       "  <thead>\n",
       "    <tr style=\"text-align: right;\">\n",
       "      <th></th>\n",
       "      <th>Date</th>\n",
       "      <th>Price</th>\n",
       "    </tr>\n",
       "  </thead>\n",
       "  <tbody>\n",
       "    <tr>\n",
       "      <th>4995</th>\n",
       "      <td>2000-01-10</td>\n",
       "      <td>281.7</td>\n",
       "    </tr>\n",
       "    <tr>\n",
       "      <th>4996</th>\n",
       "      <td>2000-01-07</td>\n",
       "      <td>281.9</td>\n",
       "    </tr>\n",
       "    <tr>\n",
       "      <th>4997</th>\n",
       "      <td>2000-01-06</td>\n",
       "      <td>281.4</td>\n",
       "    </tr>\n",
       "    <tr>\n",
       "      <th>4998</th>\n",
       "      <td>2000-01-05</td>\n",
       "      <td>281.1</td>\n",
       "    </tr>\n",
       "    <tr>\n",
       "      <th>4999</th>\n",
       "      <td>2000-01-04</td>\n",
       "      <td>282.7</td>\n",
       "    </tr>\n",
       "  </tbody>\n",
       "</table>\n",
       "</div>"
      ],
      "text/plain": [
       "           Date  Price\n",
       "4995 2000-01-10  281.7\n",
       "4996 2000-01-07  281.9\n",
       "4997 2000-01-06  281.4\n",
       "4998 2000-01-05  281.1\n",
       "4999 2000-01-04  282.7"
      ]
     },
     "execution_count": 4,
     "metadata": {},
     "output_type": "execute_result"
    }
   ],
   "source": [
    "main_dataset.tail()"
   ]
  },
  {
   "cell_type": "code",
   "execution_count": null,
   "metadata": {},
   "outputs": [],
   "source": [
    "main_dataset.head("
   ]
  },
  {
   "cell_type": "code",
   "execution_count": null,
   "metadata": {},
   "outputs": [],
   "source": []
  },
  {
   "cell_type": "code",
   "execution_count": null,
   "metadata": {},
   "outputs": [],
   "source": []
  }
 ],
 "metadata": {
  "kernelspec": {
   "display_name": "Python 3",
   "language": "python",
   "name": "python3"
  },
  "language_info": {
   "codemirror_mode": {
    "name": "ipython",
    "version": 3
   },
   "file_extension": ".py",
   "mimetype": "text/x-python",
   "name": "python",
   "nbconvert_exporter": "python",
   "pygments_lexer": "ipython3",
   "version": "3.7.6"
  }
 },
 "nbformat": 4,
 "nbformat_minor": 4
}
